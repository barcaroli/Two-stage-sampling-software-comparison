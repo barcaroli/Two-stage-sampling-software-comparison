{
 "cells": [
  {
   "cell_type": "markdown",
   "id": "d5064cb2-7ffc-4d1a-a1a2-b8644f3a7a5e",
   "metadata": {},
   "source": [
    "# Softwares for two-stage sample design\n",
    "## Comparison of performance"
   ]
  },
  {
   "cell_type": "code",
   "execution_count": 1,
   "id": "2d81fd41-c8c7-4809-b7cf-cc1da054bbf7",
   "metadata": {},
   "outputs": [],
   "source": [
    "results <- as.data.frame(list(Variable = rep(NA,24),\n",
    "                              Package = rep(NA,24),\n",
    "                              Unit = rep(NA,24),\n",
    "                              Units = rep(NA,24)))"
   ]
  },
  {
   "cell_type": "code",
   "execution_count": 2,
   "id": "01a4ad93-c539-4d55-b8fd-ca89806a9847",
   "metadata": {},
   "outputs": [
    {
     "name": "stdout",
     "output_type": "stream",
     "text": [
      "'data.frame':\t2258507 obs. of  13 variables:\n",
      " $ region       : Factor w/ 3 levels \"north\",\"center\",..: 1 1 1 1 1 1 1 1 1 1 ...\n",
      " $ province     : Factor w/ 6 levels \"north_1\",\"north_2\",..: 1 1 1 1 1 1 1 1 1 1 ...\n",
      " $ municipality : num  1 1 1 1 1 1 1 1 1 1 ...\n",
      " $ id_hh        : Factor w/ 963018 levels \"H1\",\"H10\",\"H100\",..: 1 1 1 2 3 3 3 3 1114 1114 ...\n",
      " $ id_ind       : int  1 2 3 4 5 6 7 8 9 10 ...\n",
      " $ stratum      : Factor w/ 24 levels \"1000\",\"2000\",..: 12 12 12 12 12 12 12 12 12 12 ...\n",
      " $ stratum_label: chr  \"north_1_6\" \"north_1_6\" \"north_1_6\" \"north_1_6\" ...\n",
      " $ sex          : int  1 2 1 2 1 1 2 2 1 1 ...\n",
      " $ cl_age       : Factor w/ 8 levels \"(0,14]\",\"(14,24]\",..: 3 7 8 5 4 6 6 4 4 1 ...\n",
      " $ active       : num  1 1 0 1 1 1 1 1 1 0 ...\n",
      " $ income_hh    : num  30488 30488 30488 21756 29871 ...\n",
      " $ unemployed   : num  0 0 0 0 0 0 0 0 0 0 ...\n",
      " $ inactive     : num  0 0 1 0 0 0 0 0 0 1 ...\n"
     ]
    }
   ],
   "source": [
    "load(\"pop.RData\")\n",
    "str(pop)"
   ]
  },
  {
   "cell_type": "markdown",
   "id": "3680a182-dbc5-43af-955c-07af82381581",
   "metadata": {},
   "source": [
    "## 1. PractTools"
   ]
  },
  {
   "cell_type": "code",
   "execution_count": 3,
   "id": "b644505b-5d97-4c0a-8001-2be0d5e8698d",
   "metadata": {},
   "outputs": [],
   "source": [
    "library(PracTools)"
   ]
  },
  {
   "cell_type": "code",
   "execution_count": 4,
   "id": "62cae5e5-8f69-4dc0-9b4c-889d1b5a3d93",
   "metadata": {},
   "outputs": [],
   "source": [
    "# Probabilities of inclusion I stage\n",
    "pp <- as.numeric(table(pop$municipality))/nrow(pop)"
   ]
  },
  {
   "cell_type": "markdown",
   "id": "c8d54a67-1c38-455a-af1a-549c2a4a4950",
   "metadata": {},
   "source": [
    "### Variable: income_hh"
   ]
  },
  {
   "cell_type": "code",
   "execution_count": 5,
   "id": "f382d70f-a7f1-4c92-8173-75d707a80d58",
   "metadata": {},
   "outputs": [
    {
     "data": {
      "text/html": [
       "<style>\n",
       ".dl-inline {width: auto; margin:0; padding: 0}\n",
       ".dl-inline>dt, .dl-inline>dd {float: none; width: auto; display: inline-block}\n",
       ".dl-inline>dt::after {content: \":\\0020\"; padding-right: .5ex}\n",
       ".dl-inline>dt:not(:first-of-type) {padding-left: .5ex}\n",
       "</style><dl class=dl-inline><dt>B2</dt><dd>0.0407589298607924</dd><dt>W2</dt><dd>0.795386737128669</dd><dt>unit relvar</dt><dd>0.836017657056984</dd><dt>B2+W2</dt><dd>0.836145666989461</dd><dt>k</dt><dd>1.0001531186948</dd><dt>delta</dt><dd>0.0487462071142995</dd></dl>\n"
      ],
      "text/latex": [
       "\\begin{description*}\n",
       "\\item[B2] 0.0407589298607924\n",
       "\\item[W2] 0.795386737128669\n",
       "\\item[unit relvar] 0.836017657056984\n",
       "\\item[B2+W2] 0.836145666989461\n",
       "\\item[k] 1.0001531186948\n",
       "\\item[delta] 0.0487462071142995\n",
       "\\end{description*}\n"
      ],
      "text/markdown": [
       "B2\n",
       ":   0.0407589298607924W2\n",
       ":   0.795386737128669unit relvar\n",
       ":   0.836017657056984B2+W2\n",
       ":   0.836145666989461k\n",
       ":   1.0001531186948delta\n",
       ":   0.0487462071142995\n",
       "\n"
      ],
      "text/plain": [
       "         B2          W2 unit relvar       B2+W2           k       delta \n",
       " 0.04075893  0.79538674  0.83601766  0.83614567  1.00015312  0.04874621 "
      ]
     },
     "metadata": {},
     "output_type": "display_data"
    },
    {
     "data": {
      "text/plain": [
       "\n",
       "     \n",
       "\n",
       "             C1 = 130\n",
       "             C2 = 1\n",
       "          delta = 0.04874621\n",
       "    unit relvar = 0.8360177\n",
       "              k = 1.000153\n",
       "           cost = 25499.72\n",
       "          m.opt = 141.4\n",
       "          n.opt = 50.4\n",
       "             CV = 0.02\n"
      ]
     },
     "metadata": {},
     "output_type": "display_data"
    },
    {
     "data": {
      "text/html": [
       "<strong>unit relvar:</strong> 7126.56"
      ],
      "text/latex": [
       "\\textbf{unit relvar:} 7126.56"
      ],
      "text/markdown": [
       "**unit relvar:** 7126.56"
      ],
      "text/plain": [
       "unit relvar \n",
       "    7126.56 "
      ]
     },
     "metadata": {},
     "output_type": "display_data"
    }
   ],
   "source": [
    "bw <- BW2stagePPS(pop$income_hh, \n",
    "      pp,\n",
    "      psuID=pop$municipality)\n",
    "bw\n",
    "des1 <- clusOpt2(C1=130,\n",
    "               C2=1,\n",
    "               delta=bw[6],\n",
    "               unit.rv=bw[3],\n",
    "               k=bw[5],\n",
    "               CV0=0.02,\n",
    "               tot.cost=NULL,\n",
    "               cal.sw=2)\n",
    "des1\n",
    "sample_size <- des1$m.opt*des1$n.opt\n",
    "sample_size\n",
    "results[1,1] <- \"income_hh\"\n",
    "results[1,2] <- \"PractTools\"\n",
    "results[1,3] <- \"PSU\" \n",
    "results[1,4] <- round(des1$m.opt)\n",
    "results[2,1] <- \"income_hh\"\n",
    "results[2,2] <- \"PractTools\"\n",
    "results[2,3] <- \"SSU\" "
   ]
  },
  {
   "cell_type": "markdown",
   "id": "4c364cb1-a339-4830-bf9b-33ea73d47020",
   "metadata": {
    "tags": []
   },
   "source": [
    "### Variable: active"
   ]
  },
  {
   "cell_type": "code",
   "execution_count": 6,
   "id": "091baa0d-e254-48c2-ab48-804c36570506",
   "metadata": {},
   "outputs": [
    {
     "data": {
      "text/html": [
       "<style>\n",
       ".dl-inline {width: auto; margin:0; padding: 0}\n",
       ".dl-inline>dt, .dl-inline>dd {float: none; width: auto; display: inline-block}\n",
       ".dl-inline>dt::after {content: \":\\0020\"; padding-right: .5ex}\n",
       ".dl-inline>dt:not(:first-of-type) {padding-left: .5ex}\n",
       "</style><dl class=dl-inline><dt>B2</dt><dd>0.0341600294082881</dd><dt>W2</dt><dd>0.486132985345657</dd><dt>unit relvar</dt><dd>0.520186300252101</dd><dt>B2+W2</dt><dd>0.520293014753945</dd><dt>k</dt><dd>1.000205146698</dd><dt>delta</dt><dd>0.0656553681091469</dd></dl>\n"
      ],
      "text/latex": [
       "\\begin{description*}\n",
       "\\item[B2] 0.0341600294082881\n",
       "\\item[W2] 0.486132985345657\n",
       "\\item[unit relvar] 0.520186300252101\n",
       "\\item[B2+W2] 0.520293014753945\n",
       "\\item[k] 1.000205146698\n",
       "\\item[delta] 0.0656553681091469\n",
       "\\end{description*}\n"
      ],
      "text/markdown": [
       "B2\n",
       ":   0.0341600294082881W2\n",
       ":   0.486132985345657unit relvar\n",
       ":   0.520186300252101B2+W2\n",
       ":   0.520293014753945k\n",
       ":   1.000205146698delta\n",
       ":   0.0656553681091469\n",
       "\n"
      ],
      "text/plain": [
       "         B2          W2 unit relvar       B2+W2           k       delta \n",
       " 0.03416003  0.48613299  0.52018630  0.52029301  1.00020515  0.06565537 "
      ]
     },
     "metadata": {},
     "output_type": "display_data"
    },
    {
     "data": {
      "text/plain": [
       "\n",
       "     \n",
       "\n",
       "             C1 = 180\n",
       "             C2 = 1\n",
       "          delta = 0.06565537\n",
       "    unit relvar = 0.5201863\n",
       "              k = 1.000205\n",
       "           cost = 11214.18\n",
       "          m.opt = 48.6\n",
       "          n.opt = 50.6\n",
       "             CV = 0.03\n"
      ]
     },
     "metadata": {},
     "output_type": "display_data"
    },
    {
     "data": {
      "text/html": [
       "<strong>unit relvar:</strong> 2459.16"
      ],
      "text/latex": [
       "\\textbf{unit relvar:} 2459.16"
      ],
      "text/markdown": [
       "**unit relvar:** 2459.16"
      ],
      "text/plain": [
       "unit relvar \n",
       "    2459.16 "
      ]
     },
     "metadata": {},
     "output_type": "display_data"
    }
   ],
   "source": [
    "bw <- BW2stagePPS(pop$active, \n",
    "                  pp,\n",
    "                  psuID=pop$municipality)\n",
    "bw\n",
    "des2 <- clusOpt2(C1=180,\n",
    "                C2=1,\n",
    "                delta=bw[6],\n",
    "                unit.rv=bw[3],\n",
    "                k=bw[5],\n",
    "                CV0=0.03,\n",
    "                tot.cost=NULL,\n",
    "                cal.sw=2)\n",
    "des2\n",
    "sample_size <- des2$m.opt*des2$n.opt\n",
    "sample_size\n",
    "results[2,4] <- round(des1$m.opt*des1$n.opt)\n",
    "results[3,1] <- \"active\"\n",
    "results[3,2] <- \"PractTools\"\n",
    "results[3,3] <- \"PSU\" \n",
    "results[3,4] <- round(des2$m.opt)\n",
    "results[4,1] <- \"active\"\n",
    "results[4,2] <- \"PractTools\"\n",
    "results[4,3] <- \"SSU\" \n",
    "results[4,4] <- round(des2$m.opt*des2$n.opt)"
   ]
  },
  {
   "cell_type": "markdown",
   "id": "fa08f975-df92-45c2-b06f-b546284a92a6",
   "metadata": {
    "tags": []
   },
   "source": [
    "### Variable: inactive"
   ]
  },
  {
   "cell_type": "code",
   "execution_count": 7,
   "id": "469d5f0f-51c7-4f06-9a24-213b9448fb95",
   "metadata": {},
   "outputs": [
    {
     "data": {
      "text/html": [
       "<style>\n",
       ".dl-inline {width: auto; margin:0; padding: 0}\n",
       ".dl-inline>dt, .dl-inline>dd {float: none; width: auto; display: inline-block}\n",
       ".dl-inline>dt::after {content: \":\\0020\"; padding-right: .5ex}\n",
       ".dl-inline>dt:not(:first-of-type) {padding-left: .5ex}\n",
       "</style><dl class=dl-inline><dt>B2</dt><dd>0.00747592548050322</dd><dt>W2</dt><dd>3.58642740200959</dd><dt>unit relvar</dt><dd>3.59308625918809</dd><dt>B2+W2</dt><dd>3.59390332749009</dd><dt>k</dt><dd>1.00022740013544</dd><dt>delta</dt><dd>0.00208016877452412</dd></dl>\n"
      ],
      "text/latex": [
       "\\begin{description*}\n",
       "\\item[B2] 0.00747592548050322\n",
       "\\item[W2] 3.58642740200959\n",
       "\\item[unit relvar] 3.59308625918809\n",
       "\\item[B2+W2] 3.59390332749009\n",
       "\\item[k] 1.00022740013544\n",
       "\\item[delta] 0.00208016877452412\n",
       "\\end{description*}\n"
      ],
      "text/markdown": [
       "B2\n",
       ":   0.00747592548050322W2\n",
       ":   3.58642740200959unit relvar\n",
       ":   3.59308625918809B2+W2\n",
       ":   3.59390332749009k\n",
       ":   1.00022740013544delta\n",
       ":   0.00208016877452412\n",
       "\n"
      ],
      "text/plain": [
       "         B2          W2 unit relvar       B2+W2           k       delta \n",
       "0.007475925 3.586427402 3.593086259 3.593903327 1.000227400 0.002080169 "
      ]
     },
     "metadata": {},
     "output_type": "display_data"
    },
    {
     "data": {
      "text/plain": [
       "\n",
       "     \n",
       "\n",
       "             C1 = 5\n",
       "             C2 = 1\n",
       "          delta = 0.002080169\n",
       "    unit relvar = 3.593086\n",
       "              k = 1.000227\n",
       "           cost = 4840.099\n",
       "          m.opt = 89.7\n",
       "          n.opt = 49\n",
       "             CV = 0.03\n"
      ]
     },
     "metadata": {},
     "output_type": "display_data"
    },
    {
     "data": {
      "text/html": [
       "<strong>unit relvar:</strong> 4395.3"
      ],
      "text/latex": [
       "\\textbf{unit relvar:} 4395.3"
      ],
      "text/markdown": [
       "**unit relvar:** 4395.3"
      ],
      "text/plain": [
       "unit relvar \n",
       "     4395.3 "
      ]
     },
     "metadata": {},
     "output_type": "display_data"
    }
   ],
   "source": [
    "# Third variable (inactive)\n",
    "bw <- BW2stagePPS(pop$inactive, \n",
    "                  pp,\n",
    "                  psuID=pop$municipality)\n",
    "bw\n",
    "des3 <- clusOpt2(C1=5,\n",
    "                C2=1,\n",
    "                delta=bw[6],\n",
    "                unit.rv=bw[3],\n",
    "                k=bw[5],\n",
    "                CV0=0.03,\n",
    "                tot.cost=NULL,\n",
    "                cal.sw=2)\n",
    "des3\n",
    "sample_size <- des3$m.opt*des3$n.opt\n",
    "sample_size\n",
    "results[5,1] <- \"inactive\"\n",
    "results[5,2] <- \"PractTools\"\n",
    "results[5,3] <- \"PSU\" \n",
    "results[5,4] <- round(des3$m.opt)\n",
    "results[6,1] <- \"inactive\"\n",
    "results[6,2] <- \"PractTools\"\n",
    "results[6,3] <- \"SSU\" "
   ]
  },
  {
   "cell_type": "markdown",
   "id": "7d6ee652-0338-4680-89d2-53c0a1ae365c",
   "metadata": {
    "tags": []
   },
   "source": [
    "### Variable: unemployed"
   ]
  },
  {
   "cell_type": "code",
   "execution_count": 8,
   "id": "ffb30622-9ea5-4d82-8a1e-d5c9013d25f9",
   "metadata": {},
   "outputs": [
    {
     "data": {
      "text/html": [
       "<style>\n",
       ".dl-inline {width: auto; margin:0; padding: 0}\n",
       ".dl-inline>dt, .dl-inline>dd {float: none; width: auto; display: inline-block}\n",
       ".dl-inline>dt::after {content: \":\\0020\"; padding-right: .5ex}\n",
       ".dl-inline>dt:not(:first-of-type) {padding-left: .5ex}\n",
       "</style><dl class=dl-inline><dt>B2</dt><dd>0.889005285809302</dd><dt>W2</dt><dd>6.14659063073452</dd><dt>unit relvar</dt><dd>7.03424949497764</dd><dt>B2+W2</dt><dd>7.03559591654382</dd><dt>k</dt><dd>1.00019140941292</dd><dt>delta</dt><dd>0.126358207087882</dd></dl>\n"
      ],
      "text/latex": [
       "\\begin{description*}\n",
       "\\item[B2] 0.889005285809302\n",
       "\\item[W2] 6.14659063073452\n",
       "\\item[unit relvar] 7.03424949497764\n",
       "\\item[B2+W2] 7.03559591654382\n",
       "\\item[k] 1.00019140941292\n",
       "\\item[delta] 0.126358207087882\n",
       "\\end{description*}\n"
      ],
      "text/markdown": [
       "B2\n",
       ":   0.889005285809302W2\n",
       ":   6.14659063073452unit relvar\n",
       ":   7.03424949497764B2+W2\n",
       ":   7.03559591654382k\n",
       ":   1.00019140941292delta\n",
       ":   0.126358207087882\n",
       "\n"
      ],
      "text/plain": [
       "         B2          W2 unit relvar       B2+W2           k       delta \n",
       "  0.8890053   6.1465906   7.0342495   7.0355959   1.0001914   0.1263582 "
      ]
     },
     "metadata": {},
     "output_type": "display_data"
    },
    {
     "data": {
      "text/plain": [
       "\n",
       "     \n",
       "\n",
       "             C1 = 350\n",
       "             C2 = 1\n",
       "          delta = 0.1263582\n",
       "    unit relvar = 7.034249\n",
       "              k = 1.000191\n",
       "           cost = 161905.3\n",
       "          m.opt = 405.6\n",
       "          n.opt = 49.2\n",
       "             CV = 0.05\n"
      ]
     },
     "metadata": {},
     "output_type": "display_data"
    },
    {
     "data": {
      "text/html": [
       "<strong>unit relvar:</strong> 19955.52"
      ],
      "text/latex": [
       "\\textbf{unit relvar:} 19955.52"
      ],
      "text/markdown": [
       "**unit relvar:** 19955.52"
      ],
      "text/plain": [
       "unit relvar \n",
       "   19955.52 "
      ]
     },
     "metadata": {},
     "output_type": "display_data"
    }
   ],
   "source": [
    "# Fourth variable (unemployed)\n",
    "bw <- BW2stagePPS(pop$unemployed, \n",
    "                  pp,\n",
    "                  psuID=pop$municipality)\n",
    "bw\n",
    "des4 <- clusOpt2(C1=350, # whatever value, m.opt always exceed number of municipalities\n",
    "                C2=1,\n",
    "                delta=bw[6],\n",
    "                unit.rv=bw[3],\n",
    "                k=bw[5],\n",
    "                CV0=0.05,\n",
    "                tot.cost=NULL,\n",
    "                cal.sw=2)\n",
    "des4\n",
    "sample_size <- des4$m.opt*des4$n.opt\n",
    "sample_size\n",
    "results[6,4] <- round(des3$m.opt*des3$n.opt)\n",
    "results[7,1] <- \"unemployed\"\n",
    "results[7,2] <- \"PractTools\"\n",
    "results[7,3] <- \"PSU\" \n",
    "results[7,4] <- round(des4$m.opt)\n",
    "results[8,1] <- \"unemployed\"\n",
    "results[8,2] <- \"PractTools\"\n",
    "results[8,3] <- \"SSU\""
   ]
  },
  {
   "cell_type": "markdown",
   "id": "4e734e54-7637-4e3f-bc45-c2de39284ecb",
   "metadata": {},
   "source": [
    "## 2.R2BEAT"
   ]
  },
  {
   "cell_type": "code",
   "execution_count": 9,
   "id": "7725e422-3508-4c5a-9762-df55ae6e4947",
   "metadata": {},
   "outputs": [
    {
     "name": "stderr",
     "output_type": "stream",
     "text": [
      "Caricamento del pacchetto richiesto: plyr\n",
      "\n",
      "Caricamento del pacchetto richiesto: devtools\n",
      "\n",
      "Caricamento del pacchetto richiesto: usethis\n",
      "\n",
      "Caricamento del pacchetto richiesto: sampling\n",
      "\n"
     ]
    }
   ],
   "source": [
    "library(R2BEAT)"
   ]
  },
  {
   "cell_type": "markdown",
   "id": "7bd80eeb-712b-4ebc-a94b-57b02b5f5eec",
   "metadata": {},
   "source": [
    "### Variable: income_hh"
   ]
  },
  {
   "cell_type": "code",
   "execution_count": 10,
   "id": "767f9739-baa3-420f-92b2-960298f556a8",
   "metadata": {},
   "outputs": [
    {
     "name": "stdout",
     "output_type": "stream",
     "text": [
      "\n",
      "Calculating strata...\n",
      "Computations are being done on population data\n",
      "\n",
      "Number of strata:  1\n",
      "... of which with only one unit:  0\n",
      "Calculating rho in strata...\n",
      "Stratum  1"
     ]
    },
    {
     "data": {
      "text/html": [
       "<table class=\"dataframe\">\n",
       "<caption>A data.frame: 1 × 3</caption>\n",
       "<thead>\n",
       "\t<tr><th scope=col>STRATUM</th><th scope=col>RHO_AR1</th><th scope=col>RHO_NAR1</th></tr>\n",
       "\t<tr><th scope=col>&lt;fct&gt;</th><th scope=col>&lt;dbl&gt;</th><th scope=col>&lt;dbl&gt;</th></tr>\n",
       "</thead>\n",
       "<tbody>\n",
       "\t<tr><td>1</td><td>1</td><td>0.04875369</td></tr>\n",
       "</tbody>\n",
       "</table>\n"
      ],
      "text/latex": [
       "A data.frame: 1 × 3\n",
       "\\begin{tabular}{lll}\n",
       " STRATUM & RHO\\_AR1 & RHO\\_NAR1\\\\\n",
       " <fct> & <dbl> & <dbl>\\\\\n",
       "\\hline\n",
       "\t 1 & 1 & 0.04875369\\\\\n",
       "\\end{tabular}\n"
      ],
      "text/markdown": [
       "\n",
       "A data.frame: 1 × 3\n",
       "\n",
       "| STRATUM &lt;fct&gt; | RHO_AR1 &lt;dbl&gt; | RHO_NAR1 &lt;dbl&gt; |\n",
       "|---|---|---|\n",
       "| 1 | 1 | 0.04875369 |\n",
       "\n"
      ],
      "text/plain": [
       "  STRATUM RHO_AR1 RHO_NAR1  \n",
       "1 1       1       0.04875369"
      ]
     },
     "metadata": {},
     "output_type": "display_data"
    },
    {
     "name": "stdout",
     "output_type": "stream",
     "text": [
      "  iterations PSU_SR PSU NSR PSU Total  SSU\n",
      "1          0      0       0         0 2089\n",
      "2          1      6      32        38 5835\n",
      "3          2     14      70        84 5257\n",
      "4          3     13      64        77 5301\n"
     ]
    }
   ],
   "source": [
    "# FIRST VARIABLE : income_hh\n",
    "## Precision constraints\n",
    "cv <- as.data.frame(list(DOM=c(\"DOM1\"),\n",
    "                         CV1=c(0.02)))\n",
    "## -----------------------------------------------------------\n",
    "## Prepare inputs for allocation\n",
    "samp_frame <- pop\n",
    "samp_frame$one <- 1\n",
    "id_PSU <- \"municipality\"  \n",
    "id_SSU <- \"id_ind\"        \n",
    "strata_var <- \"one\"   \n",
    "target_vars <- c(\"income_hh\") \n",
    "deff_var <- \"stratum\"     \n",
    "domain_var <- \"one\"  \n",
    "delta =  1       # households = survey units\n",
    "minimum <- 50    # minimum number of SSUs to be interviewed in each selected PSU\n",
    "f = 0.05         # suggestion for the sampling fraction \n",
    "deff_sugg <- 1.5 # suggestion for the deff value\n",
    "inp1 <- prepareInputToAllocation1(samp_frame,\n",
    "                                id_PSU,\n",
    "                                id_SSU,\n",
    "                                strata_var,\n",
    "                                target_vars,\n",
    "                                deff_var,\n",
    "                                domain_var,\n",
    "                                minimum,\n",
    "                                delta,\n",
    "                                f,\n",
    "                                deff_sugg)\n",
    "inp1$rho\n",
    "## -----------------------------------------------------------\n",
    "## Allocation\n",
    "alloc1 <- beat.2st(stratif = inp1$strata, \n",
    "                  errors = cv, \n",
    "                  des_file = inp1$des_file, \n",
    "                  psu_file = inp1$psu_file, \n",
    "                  rho = inp1$rho, \n",
    "                  deft_start = NULL, \n",
    "                  effst = inp1$effst,\n",
    "                  epsilon1 = 5, \n",
    "                  mmdiff_deft = 1,maxi = 15, \n",
    "                  epsilon = 10^(-11), \n",
    "                  minPSUstrat = 2,\n",
    "                  minnumstrat = 2, \n",
    "                  maxiter = 200, \n",
    "                  maxiter1 = 25)\n",
    "results[8,4] <- round(des4$m.opt*des4$n.opt)\n",
    "results[9,1] <- \"income_hh\"\n",
    "results[9,2] <- \"R2BEAT\"\n",
    "results[9,3] <- \"PSU\" \n",
    "results[9,4] <- alloc1$iterations[nrow(alloc1$iterations),4]\n",
    "results[10,1] <- \"income_hh\"\n",
    "results[10,2] <- \"R2BEAT\"\n",
    "results[10,3] <- \"SSU\" "
   ]
  },
  {
   "cell_type": "markdown",
   "id": "39d3e838-21a7-4a9b-81ce-036a13e32e56",
   "metadata": {},
   "source": [
    "### Variable: active"
   ]
  },
  {
   "cell_type": "code",
   "execution_count": 11,
   "id": "8e4dce4e-6892-47d9-993b-a5f2811351ff",
   "metadata": {},
   "outputs": [
    {
     "name": "stdout",
     "output_type": "stream",
     "text": [
      "\n",
      "Calculating strata...\n",
      "Computations are being done on population data\n",
      "\n",
      "Number of strata:  1\n",
      "... of which with only one unit:  0\n",
      "Calculating rho in strata...\n",
      "Stratum  1"
     ]
    },
    {
     "data": {
      "text/html": [
       "<table class=\"dataframe\">\n",
       "<caption>A data.frame: 1 × 3</caption>\n",
       "<thead>\n",
       "\t<tr><th scope=col>STRATUM</th><th scope=col>RHO_AR1</th><th scope=col>RHO_NAR1</th></tr>\n",
       "\t<tr><th scope=col>&lt;fct&gt;</th><th scope=col>&lt;dbl&gt;</th><th scope=col>&lt;dbl&gt;</th></tr>\n",
       "</thead>\n",
       "<tbody>\n",
       "\t<tr><td>1</td><td>1</td><td>0.06566887</td></tr>\n",
       "</tbody>\n",
       "</table>\n"
      ],
      "text/latex": [
       "A data.frame: 1 × 3\n",
       "\\begin{tabular}{lll}\n",
       " STRATUM & RHO\\_AR1 & RHO\\_NAR1\\\\\n",
       " <fct> & <dbl> & <dbl>\\\\\n",
       "\\hline\n",
       "\t 1 & 1 & 0.06566887\\\\\n",
       "\\end{tabular}\n"
      ],
      "text/markdown": [
       "\n",
       "A data.frame: 1 × 3\n",
       "\n",
       "| STRATUM &lt;fct&gt; | RHO_AR1 &lt;dbl&gt; | RHO_NAR1 &lt;dbl&gt; |\n",
       "|---|---|---|\n",
       "| 1 | 1 | 0.06566887 |\n",
       "\n"
      ],
      "text/plain": [
       "  STRATUM RHO_AR1 RHO_NAR1  \n",
       "1 1       1       0.06566887"
      ]
     },
     "metadata": {},
     "output_type": "display_data"
    },
    {
     "name": "stdout",
     "output_type": "stream",
     "text": [
      "  iterations PSU_SR PSU NSR PSU Total  SSU\n",
      "1          0      0       0         0  578\n",
      "2          1      0      12        12 2436\n",
      "3          2      7      36        43 1936\n",
      "4          3      5      30        35 2023\n"
     ]
    }
   ],
   "source": [
    "# SECOND VARIABLE : active\n",
    "\n",
    "## Precision constraints\n",
    "cv <- as.data.frame(list(DOM=c(\"DOM1\"),\n",
    "                         CV1=c(0.03)))\n",
    "## -----------------------------------------------------------\n",
    "## Prepare inputs for allocation\n",
    "samp_frame <- pop\n",
    "samp_frame$one <- 1\n",
    "id_PSU <- \"municipality\"  \n",
    "id_SSU <- \"id_ind\"        \n",
    "strata_var <- \"one\"   \n",
    "# target_vars <- c(\"income_hh\",\"active\",\"inactive\",\"unemployed\")   \n",
    "target_vars <- c(\"active\") \n",
    "deff_var <- \"stratum\"     \n",
    "domain_var <- \"one\"  \n",
    "delta =  1       # households = survey units\n",
    "minimum <- 50    # minimum number of SSUs to be interviewed in each selected PSU\n",
    "f = 0.05         # suggestion for the sampling fraction \n",
    "deff_sugg <- 1.5 # suggestion for the deff value\n",
    "inp2 <- prepareInputToAllocation1(samp_frame,\n",
    "                                 id_PSU,\n",
    "                                 id_SSU,\n",
    "                                 strata_var,\n",
    "                                 target_vars,\n",
    "                                 deff_var,\n",
    "                                 domain_var,\n",
    "                                 minimum,\n",
    "                                 delta,\n",
    "                                 f,\n",
    "                                 deff_sugg)\n",
    "inp2$rho\n",
    "## -----------------------------------------------------------\n",
    "## Allocation\n",
    "alloc2 <- beat.2st(stratif = inp2$strata, \n",
    "                  errors = cv, \n",
    "                  des_file = inp2$des_file, \n",
    "                  psu_file = inp2$psu_file, \n",
    "                  rho = inp2$rho, \n",
    "                  deft_start = NULL, \n",
    "                  effst = inp2$effst,\n",
    "                  epsilon1 = 5, \n",
    "                  mmdiff_deft = 1,\n",
    "                  maxi = 15, \n",
    "                  epsilon = 10^(-11), \n",
    "                  minPSUstrat = 2,\n",
    "                  minnumstrat = 2, \n",
    "                  maxiter = 200, \n",
    "                  maxiter1 = 25)\n",
    "results[10,4] <- alloc1$iterations[nrow(alloc1$iterations),5]\n",
    "results[11,1] <- \"active\"\n",
    "results[11,2] <- \"R2BEAT\"\n",
    "results[11,3] <- \"PSU\" \n",
    "results[11,4] <- alloc2$iterations[nrow(alloc2$iterations),4]\n",
    "results[12,1] <- \"active\"\n",
    "results[12,2] <- \"R2BEAT\"\n",
    "results[12,3] <- \"SSU\" \n"
   ]
  },
  {
   "cell_type": "markdown",
   "id": "81ec3b86-c5dd-47cd-9071-c22641af38ff",
   "metadata": {
    "tags": []
   },
   "source": [
    "### Variable: inactive"
   ]
  },
  {
   "cell_type": "code",
   "execution_count": 12,
   "id": "16ebdc64-53a9-4724-b6a7-47bbc7bcf96c",
   "metadata": {},
   "outputs": [
    {
     "name": "stdout",
     "output_type": "stream",
     "text": [
      "\n",
      "Calculating strata...\n",
      "Computations are being done on population data\n",
      "\n",
      "Number of strata:  1\n",
      "... of which with only one unit:  0\n",
      "Calculating rho in strata...\n",
      "Stratum  1"
     ]
    },
    {
     "data": {
      "text/html": [
       "<table class=\"dataframe\">\n",
       "<caption>A data.frame: 1 × 3</caption>\n",
       "<thead>\n",
       "\t<tr><th scope=col>STRATUM</th><th scope=col>RHO_AR1</th><th scope=col>RHO_NAR1</th></tr>\n",
       "\t<tr><th scope=col>&lt;fct&gt;</th><th scope=col>&lt;dbl&gt;</th><th scope=col>&lt;dbl&gt;</th></tr>\n",
       "</thead>\n",
       "<tbody>\n",
       "\t<tr><td>1</td><td>1</td><td>0.002080643</td></tr>\n",
       "</tbody>\n",
       "</table>\n"
      ],
      "text/latex": [
       "A data.frame: 1 × 3\n",
       "\\begin{tabular}{lll}\n",
       " STRATUM & RHO\\_AR1 & RHO\\_NAR1\\\\\n",
       " <fct> & <dbl> & <dbl>\\\\\n",
       "\\hline\n",
       "\t 1 & 1 & 0.002080643\\\\\n",
       "\\end{tabular}\n"
      ],
      "text/markdown": [
       "\n",
       "A data.frame: 1 × 3\n",
       "\n",
       "| STRATUM &lt;fct&gt; | RHO_AR1 &lt;dbl&gt; | RHO_NAR1 &lt;dbl&gt; |\n",
       "|---|---|---|\n",
       "| 1 | 1 | 0.002080643 |\n",
       "\n"
      ],
      "text/plain": [
       "  STRATUM RHO_AR1 RHO_NAR1   \n",
       "1 1       1       0.002080643"
      ]
     },
     "metadata": {},
     "output_type": "display_data"
    },
    {
     "name": "stdout",
     "output_type": "stream",
     "text": [
      "  iterations PSU_SR PSU NSR PSU Total  SSU\n",
      "1          0      0       0         0 3986\n",
      "2          1     12      50        62 4252\n"
     ]
    }
   ],
   "source": [
    "## Precision constraints\n",
    "cv <- as.data.frame(list(DOM=c(\"DOM1\"),\n",
    "                         CV1=c(0.03)))\n",
    "## -----------------------------------------------------------\n",
    "## Prepare inputs for allocation\n",
    "samp_frame <- pop\n",
    "samp_frame$one <- 1\n",
    "id_PSU <- \"municipality\"  \n",
    "id_SSU <- \"id_ind\"        \n",
    "strata_var <- \"one\"   \n",
    "# target_vars <- c(\"income_hh\",\"active\",\"inactive\",\"unemployed\")   \n",
    "target_vars <- c(\"inactive\") \n",
    "deff_var <- \"stratum\"     \n",
    "domain_var <- \"one\"  \n",
    "delta =  1       # households = survey units\n",
    "minimum <- 50    # minimum number of SSUs to be interviewed in each selected PSU\n",
    "f = 0.05         # suggestion for the sampling fraction \n",
    "deff_sugg <- 1.5 # suggestion for the deff value\n",
    "inp3 <- prepareInputToAllocation1(samp_frame,\n",
    "                                 id_PSU,\n",
    "                                 id_SSU,\n",
    "                                 strata_var,\n",
    "                                 target_vars,\n",
    "                                 deff_var,\n",
    "                                 domain_var,\n",
    "                                 minimum,\n",
    "                                 delta,\n",
    "                                 f,\n",
    "                                 deff_sugg)\n",
    "inp3$rho\n",
    "## -----------------------------------------------------------\n",
    "## Allocation\n",
    "alloc3 <- beat.2st(stratif = inp3$strata, \n",
    "                  errors = cv, \n",
    "                  des_file = inp3$des_file, \n",
    "                  psu_file = inp3$psu_file, \n",
    "                  rho = inp3$rho, \n",
    "                  deft_start = NULL, \n",
    "                  effst = inp3$effst,\n",
    "                  epsilon1 = 5, \n",
    "                  mmdiff_deft = 1,maxi = 15, \n",
    "                  epsilon = 10^(-11), \n",
    "                  minPSUstrat = 2,\n",
    "                  minnumstrat = 2, \n",
    "                  maxiter = 200, \n",
    "                  maxiter1 = 25)\n",
    "results[12,4] <- alloc2$iterations[nrow(alloc2$iterations),5]\n",
    "results[13,1] <- \"inactive\"\n",
    "results[13,2] <- \"R2BEAT\"\n",
    "results[13,3] <- \"PSU\" \n",
    "results[13,4] <- alloc3$iterations[nrow(alloc3$iterations),4]\n",
    "results[14,1] <- \"inactive\"\n",
    "results[14,2] <- \"R2BEAT\"\n",
    "results[14,3] <- \"SSU\" "
   ]
  },
  {
   "cell_type": "markdown",
   "id": "d27d4537-8d6f-4ce1-98b6-8ad8e3bc5b1f",
   "metadata": {
    "tags": []
   },
   "source": [
    "### Variable: unemployed"
   ]
  },
  {
   "cell_type": "code",
   "execution_count": 13,
   "id": "d85cdfc4-5748-4f68-a893-4e122923b6e7",
   "metadata": {},
   "outputs": [
    {
     "name": "stdout",
     "output_type": "stream",
     "text": [
      "\n",
      "Calculating strata...\n",
      "Computations are being done on population data\n",
      "\n",
      "Number of strata:  1\n",
      "... of which with only one unit:  0\n",
      "Calculating rho in strata...\n",
      "Stratum  1"
     ]
    },
    {
     "data": {
      "text/html": [
       "<table class=\"dataframe\">\n",
       "<caption>A data.frame: 1 × 3</caption>\n",
       "<thead>\n",
       "\t<tr><th scope=col>STRATUM</th><th scope=col>RHO_AR1</th><th scope=col>RHO_NAR1</th></tr>\n",
       "\t<tr><th scope=col>&lt;fct&gt;</th><th scope=col>&lt;dbl&gt;</th><th scope=col>&lt;dbl&gt;</th></tr>\n",
       "</thead>\n",
       "<tbody>\n",
       "\t<tr><td>1</td><td>1</td><td>0.1263824</td></tr>\n",
       "</tbody>\n",
       "</table>\n"
      ],
      "text/latex": [
       "A data.frame: 1 × 3\n",
       "\\begin{tabular}{lll}\n",
       " STRATUM & RHO\\_AR1 & RHO\\_NAR1\\\\\n",
       " <fct> & <dbl> & <dbl>\\\\\n",
       "\\hline\n",
       "\t 1 & 1 & 0.1263824\\\\\n",
       "\\end{tabular}\n"
      ],
      "text/markdown": [
       "\n",
       "A data.frame: 1 × 3\n",
       "\n",
       "| STRATUM &lt;fct&gt; | RHO_AR1 &lt;dbl&gt; | RHO_NAR1 &lt;dbl&gt; |\n",
       "|---|---|---|\n",
       "| 1 | 1 | 0.1263824 |\n",
       "\n"
      ],
      "text/plain": [
       "  STRATUM RHO_AR1 RHO_NAR1 \n",
       "1 1       1       0.1263824"
      ]
     },
     "metadata": {},
     "output_type": "display_data"
    },
    {
     "name": "stdout",
     "output_type": "stream",
     "text": [
      "  iterations PSU_SR PSU NSR PSU Total   SSU\n",
      "1          0      0       0         0  2811\n",
      "2          1      7      40        47 15442\n",
      "3          2     50     120       170 10252\n",
      "4          3     36      92       128 11243\n",
      "5          4     42      96       138 10752\n"
     ]
    }
   ],
   "source": [
    "## Precision constraints\n",
    "cv <- as.data.frame(list(DOM=c(\"DOM1\"),\n",
    "                         CV1=c(0.05)))\n",
    "## -----------------------------------------------------------\n",
    "## Prepare inputs for allocation\n",
    "samp_frame <- pop\n",
    "samp_frame$one <- 1\n",
    "id_PSU <- \"municipality\"  \n",
    "id_SSU <- \"id_ind\"        \n",
    "strata_var <- \"one\"   \n",
    "# target_vars <- c(\"income_hh\",\"active\",\"inactive\",\"unemployed\")   \n",
    "target_vars <- c(\"unemployed\") \n",
    "deff_var <- \"stratum\"     \n",
    "domain_var <- \"one\"  \n",
    "delta =  1       # households = survey units\n",
    "minimum <- 50    # minimum number of SSUs to be interviewed in each selected PSU\n",
    "f = 0.05         # suggestion for the sampling fraction \n",
    "deff_sugg <- 1.5 # suggestion for the deff value\n",
    "inp4 <- prepareInputToAllocation1(samp_frame,\n",
    "                                 id_PSU,\n",
    "                                 id_SSU,\n",
    "                                 strata_var,\n",
    "                                 target_vars,\n",
    "                                 deff_var,\n",
    "                                 domain_var,\n",
    "                                 minimum,\n",
    "                                 delta,\n",
    "                                 f,\n",
    "                                 deff_sugg)\n",
    "inp4$rho\n",
    "## -----------------------------------------------------------\n",
    "## Allocation\n",
    "alloc4 <- beat.2st(stratif = inp4$strata, \n",
    "                  errors = cv, \n",
    "                  des_file = inp4$des_file, \n",
    "                  psu_file = inp4$psu_file, \n",
    "                  rho = inp4$rho, \n",
    "                  deft_start = NULL, \n",
    "                  effst = inp4$effst,\n",
    "                  epsilon1 = 5, \n",
    "                  mmdiff_deft = 1,maxi = 15, \n",
    "                  epsilon = 10^(-11), \n",
    "                  minPSUstrat = 2,\n",
    "                  minnumstrat = 2, \n",
    "                  maxiter = 200, \n",
    "                  maxiter1 = 25)\n",
    "results[14,4] <- alloc3$iterations[nrow(alloc3$iterations),5]\n",
    "results[15,1] <- \"unemployed\"\n",
    "results[15,2] <- \"R2BEAT\"\n",
    "results[15,3] <- \"PSU\" \n",
    "results[15,4] <- alloc4$iterations[nrow(alloc4$iterations),4]\n",
    "results[16,1] <- \"unemployed\"\n",
    "results[16,2] <- \"R2BEAT\"\n",
    "results[16,3] <- \"SSU\" "
   ]
  },
  {
   "cell_type": "markdown",
   "id": "f8272d43-6fd1-417b-8774-f87b11b3926b",
   "metadata": {},
   "source": [
    "## 3.samplesize4surveys"
   ]
  },
  {
   "cell_type": "code",
   "execution_count": 14,
   "id": "5bbb33c9-8250-45c7-a77e-7685e3ccfc76",
   "metadata": {},
   "outputs": [
    {
     "name": "stderr",
     "output_type": "stream",
     "text": [
      "Caricamento del pacchetto richiesto: TeachingSampling\n",
      "\n",
      "Caricamento del pacchetto richiesto: dplyr\n",
      "\n",
      "\n",
      "Caricamento pacchetto: 'dplyr'\n",
      "\n",
      "\n",
      "I seguenti oggetti sono mascherati da 'package:plyr':\n",
      "\n",
      "    arrange, count, desc, failwith, id, mutate, rename, summarise,\n",
      "    summarize\n",
      "\n",
      "\n",
      "I seguenti oggetti sono mascherati da 'package:stats':\n",
      "\n",
      "    filter, lag\n",
      "\n",
      "\n",
      "I seguenti oggetti sono mascherati da 'package:base':\n",
      "\n",
      "    intersect, setdiff, setequal, union\n",
      "\n",
      "\n",
      "Caricamento del pacchetto richiesto: magrittr\n",
      "\n",
      "Caricamento del pacchetto richiesto: timeDate\n",
      "\n"
     ]
    }
   ],
   "source": [
    "library(\"samplesize4surveys\")"
   ]
  },
  {
   "cell_type": "code",
   "execution_count": 15,
   "id": "c4a49a62-c0ad-423f-a8d1-3984ae214b5a",
   "metadata": {},
   "outputs": [],
   "source": [
    "pop_strata <- as.numeric(table(pop$stratum))\n",
    "PSU <- length(unique(pop$municipality))\n",
    "rho_income_hh <- inp1$rho$RHO_NAR1\n",
    "rho_active <- inp2$rho$RHO_NAR1\n",
    "rho_inactive<- inp3$rho$RHO_NAR1\n",
    "rho_unmployed <- inp4$rho$RHO_NAR1"
   ]
  },
  {
   "cell_type": "markdown",
   "id": "9e33ca51-42e3-4802-bcfc-815ad565f0f3",
   "metadata": {},
   "source": [
    "### Variable: income_hh"
   ]
  },
  {
   "cell_type": "code",
   "execution_count": 16,
   "id": "6fc1feb3-fabd-4903-938b-403ad186fa27",
   "metadata": {},
   "outputs": [
    {
     "data": {
      "text/html": [
       "<table class=\"dataframe\">\n",
       "<caption>A data.frame: 1 × 4</caption>\n",
       "<thead>\n",
       "\t<tr><th></th><th scope=col>Deff</th><th scope=col>nI</th><th scope=col>m</th><th scope=col>n2s</th></tr>\n",
       "\t<tr><th></th><th scope=col>&lt;dbl&gt;</th><th scope=col>&lt;dbl&gt;</th><th scope=col>&lt;int&gt;</th><th scope=col>&lt;dbl&gt;</th></tr>\n",
       "</thead>\n",
       "<tbody>\n",
       "\t<tr><th scope=row>50</th><td>3.388931</td><td>142</td><td>50</td><td>7061</td></tr>\n",
       "</tbody>\n",
       "</table>\n"
      ],
      "text/latex": [
       "A data.frame: 1 × 4\n",
       "\\begin{tabular}{r|llll}\n",
       "  & Deff & nI & m & n2s\\\\\n",
       "  & <dbl> & <dbl> & <int> & <dbl>\\\\\n",
       "\\hline\n",
       "\t50 & 3.388931 & 142 & 50 & 7061\\\\\n",
       "\\end{tabular}\n"
      ],
      "text/markdown": [
       "\n",
       "A data.frame: 1 × 4\n",
       "\n",
       "| <!--/--> | Deff &lt;dbl&gt; | nI &lt;dbl&gt; | m &lt;int&gt; | n2s &lt;dbl&gt; |\n",
       "|---|---|---|---|---|\n",
       "| 50 | 3.388931 | 142 | 50 | 7061 |\n",
       "\n"
      ],
      "text/plain": [
       "   Deff     nI  m  n2s \n",
       "50 3.388931 142 50 7061"
      ]
     },
     "metadata": {},
     "output_type": "display_data"
    }
   ],
   "source": [
    "# First variable (income_hh)\n",
    "a1 <- ss2s4m(N = nrow(pop), \n",
    "       mu = mean(pop$income_hh), \n",
    "       sigma = sd(pop$income_hh),\n",
    "       # conf = 0.95,\n",
    "       delta = 0.02 * 1.96,\n",
    "       M = PSU, \n",
    "       to = 50, \n",
    "       rho = rho_income_hh)\n",
    "a1[50,]\n",
    "results[16,4] <- alloc4$iterations[nrow(alloc4$iterations),5]\n",
    "results[17,1] <- \"income_hh\"\n",
    "results[17,2] <- \"samplesize4surveys\"\n",
    "results[17,3] <- \"PSU\" \n",
    "results[17,4] <- a1[50,2]\n",
    "results[18,1] <- \"income_hh\"\n",
    "results[18,2] <- \"samplesize4surveys\"\n",
    "results[18,3] <- \"SSU\" \n",
    "results[18,4] <- a1[50,4]"
   ]
  },
  {
   "cell_type": "markdown",
   "id": "0c834e61-8bcd-4cce-bdc4-a23702b19991",
   "metadata": {
    "tags": []
   },
   "source": [
    "### Variable: active"
   ]
  },
  {
   "cell_type": "code",
   "execution_count": 17,
   "id": "6f69fef5-33d6-4c60-a0b6-ada540d2f4c7",
   "metadata": {},
   "outputs": [
    {
     "data": {
      "text/html": [
       "<table class=\"dataframe\">\n",
       "<caption>A data.frame: 1 × 4</caption>\n",
       "<thead>\n",
       "\t<tr><th></th><th scope=col>Deff</th><th scope=col>nI</th><th scope=col>m</th><th scope=col>n2s</th></tr>\n",
       "\t<tr><th></th><th scope=col>&lt;dbl&gt;</th><th scope=col>&lt;dbl&gt;</th><th scope=col>&lt;int&gt;</th><th scope=col>&lt;dbl&gt;</th></tr>\n",
       "</thead>\n",
       "<tbody>\n",
       "\t<tr><th scope=row>50</th><td>4.217774</td><td>49</td><td>50</td><td>2436</td></tr>\n",
       "</tbody>\n",
       "</table>\n"
      ],
      "text/latex": [
       "A data.frame: 1 × 4\n",
       "\\begin{tabular}{r|llll}\n",
       "  & Deff & nI & m & n2s\\\\\n",
       "  & <dbl> & <dbl> & <int> & <dbl>\\\\\n",
       "\\hline\n",
       "\t50 & 4.217774 & 49 & 50 & 2436\\\\\n",
       "\\end{tabular}\n"
      ],
      "text/markdown": [
       "\n",
       "A data.frame: 1 × 4\n",
       "\n",
       "| <!--/--> | Deff &lt;dbl&gt; | nI &lt;dbl&gt; | m &lt;int&gt; | n2s &lt;dbl&gt; |\n",
       "|---|---|---|---|---|\n",
       "| 50 | 4.217774 | 49 | 50 | 2436 |\n",
       "\n"
      ],
      "text/plain": [
       "   Deff     nI m  n2s \n",
       "50 4.217774 49 50 2436"
      ]
     },
     "metadata": {},
     "output_type": "display_data"
    }
   ],
   "source": [
    "# Second variable (active)\n",
    "a2 <- ss2s4p(N = nrow(pop), \n",
    "       P = as.numeric(table(pop$active))[2]/nrow(pop), \n",
    "       # conf = 0.95, \n",
    "       delta = 0.03 * 1.96, \n",
    "       M = PSU, \n",
    "       to = 50, \n",
    "       rho = rho_active)\n",
    "a2[50,]\n",
    "results[19,1] <- \"active\"\n",
    "results[19,2] <- \"samplesize4surveys\"\n",
    "results[19,3] <- \"PSU\" \n",
    "results[19,4] <- a2[50,2]\n",
    "results[20,1] <- \"active\"\n",
    "results[20,2] <- \"samplesize4surveys\"\n",
    "results[20,3] <- \"SSU\" \n",
    "results[20,4] <- a2[50,4]"
   ]
  },
  {
   "cell_type": "markdown",
   "id": "c9c860d7-604c-4054-94fb-0fc226412f74",
   "metadata": {
    "tags": []
   },
   "source": [
    "### Variable: inactive"
   ]
  },
  {
   "cell_type": "code",
   "execution_count": 18,
   "id": "2d9eae67-bb69-46fc-850a-00549237d20b",
   "metadata": {},
   "outputs": [
    {
     "data": {
      "text/html": [
       "<table class=\"dataframe\">\n",
       "<caption>A data.frame: 1 × 4</caption>\n",
       "<thead>\n",
       "\t<tr><th></th><th scope=col>Deff</th><th scope=col>nI</th><th scope=col>m</th><th scope=col>n2s</th></tr>\n",
       "\t<tr><th></th><th scope=col>&lt;dbl&gt;</th><th scope=col>&lt;dbl&gt;</th><th scope=col>&lt;int&gt;</th><th scope=col>&lt;dbl&gt;</th></tr>\n",
       "</thead>\n",
       "<tbody>\n",
       "\t<tr><th scope=row>50</th><td>1.101951</td><td>88</td><td>50</td><td>4391</td></tr>\n",
       "</tbody>\n",
       "</table>\n"
      ],
      "text/latex": [
       "A data.frame: 1 × 4\n",
       "\\begin{tabular}{r|llll}\n",
       "  & Deff & nI & m & n2s\\\\\n",
       "  & <dbl> & <dbl> & <int> & <dbl>\\\\\n",
       "\\hline\n",
       "\t50 & 1.101951 & 88 & 50 & 4391\\\\\n",
       "\\end{tabular}\n"
      ],
      "text/markdown": [
       "\n",
       "A data.frame: 1 × 4\n",
       "\n",
       "| <!--/--> | Deff &lt;dbl&gt; | nI &lt;dbl&gt; | m &lt;int&gt; | n2s &lt;dbl&gt; |\n",
       "|---|---|---|---|---|\n",
       "| 50 | 1.101951 | 88 | 50 | 4391 |\n",
       "\n"
      ],
      "text/plain": [
       "   Deff     nI m  n2s \n",
       "50 1.101951 88 50 4391"
      ]
     },
     "metadata": {},
     "output_type": "display_data"
    }
   ],
   "source": [
    "a3 <- ss2s4p(N = nrow(pop), \n",
    "       P = as.numeric(table(pop$inactive))[2]/nrow(pop), \n",
    "       # conf = 0.95, \n",
    "       delta = 0.03 * 1.96, \n",
    "       M = PSU, \n",
    "       to = 50, \n",
    "       rho = rho_inactive)\n",
    "a3[50,]\n",
    "results[21,1] <- \"inactive\"\n",
    "results[21,2] <- \"samplesize4surveys\"\n",
    "results[21,3] <- \"PSU\" \n",
    "results[21,4] <- a3[50,2]\n",
    "results[22,1] <- \"inactive\"\n",
    "results[22,2] <- \"samplesize4surveys\"\n",
    "results[22,3] <- \"SSU\" \n",
    "results[22,4] <- a3[50,4]"
   ]
  },
  {
   "cell_type": "markdown",
   "id": "50c93abf-6adb-4dbe-9065-eafe1cebbe95",
   "metadata": {
    "tags": []
   },
   "source": [
    "### Variable: unemployed"
   ]
  },
  {
   "cell_type": "code",
   "execution_count": 19,
   "id": "8bb9ec6a-7176-4d52-a7c3-96bf841854c6",
   "metadata": {},
   "outputs": [
    {
     "data": {
      "text/html": [
       "<table class=\"dataframe\">\n",
       "<caption>A data.frame: 1 × 4</caption>\n",
       "<thead>\n",
       "\t<tr><th></th><th scope=col>Deff</th><th scope=col>nI</th><th scope=col>m</th><th scope=col>n2s</th></tr>\n",
       "\t<tr><th></th><th scope=col>&lt;dbl&gt;</th><th scope=col>&lt;dbl&gt;</th><th scope=col>&lt;int&gt;</th><th scope=col>&lt;dbl&gt;</th></tr>\n",
       "</thead>\n",
       "<tbody>\n",
       "\t<tr><th scope=row>50</th><td>7.19274</td><td>402</td><td>50</td><td>20058</td></tr>\n",
       "</tbody>\n",
       "</table>\n"
      ],
      "text/latex": [
       "A data.frame: 1 × 4\n",
       "\\begin{tabular}{r|llll}\n",
       "  & Deff & nI & m & n2s\\\\\n",
       "  & <dbl> & <dbl> & <int> & <dbl>\\\\\n",
       "\\hline\n",
       "\t50 & 7.19274 & 402 & 50 & 20058\\\\\n",
       "\\end{tabular}\n"
      ],
      "text/markdown": [
       "\n",
       "A data.frame: 1 × 4\n",
       "\n",
       "| <!--/--> | Deff &lt;dbl&gt; | nI &lt;dbl&gt; | m &lt;int&gt; | n2s &lt;dbl&gt; |\n",
       "|---|---|---|---|---|\n",
       "| 50 | 7.19274 | 402 | 50 | 20058 |\n",
       "\n"
      ],
      "text/plain": [
       "   Deff    nI  m  n2s  \n",
       "50 7.19274 402 50 20058"
      ]
     },
     "metadata": {},
     "output_type": "display_data"
    }
   ],
   "source": [
    "# Fourth variable (unemployed)\n",
    "a4 <- ss2s4p(N = nrow(pop), \n",
    "       P = as.numeric(table(pop$unemployed))[2]/nrow(pop), \n",
    "       # conf = 0.95, \n",
    "       delta = 0.05 * 1.96, \n",
    "       M = PSU, \n",
    "       to = 50, \n",
    "       rho = rho_unmployed)\n",
    "a4[50,]\n",
    "results[23,1] <- \"unemployed\"\n",
    "results[23,2] <- \"samplesize4surveys\"\n",
    "results[23,3] <- \"PSU\" \n",
    "results[23,4] <- a4[50,2]\n",
    "results[24,1] <- \"unemployed\"\n",
    "results[24,2] <- \"samplesize4surveys\"\n",
    "results[24,3] <- \"SSU\" \n",
    "results[24,4] <- a4[50,4]"
   ]
  },
  {
   "cell_type": "markdown",
   "id": "84af79ac-c241-4aa2-9314-d871a8d54239",
   "metadata": {},
   "source": [
    "## 4. Plotting results"
   ]
  },
  {
   "cell_type": "code",
   "execution_count": 20,
   "id": "a0418c28-3cd4-49ed-92a9-952f2440b97f",
   "metadata": {},
   "outputs": [
    {
     "data": {
      "image/png": "[encoded data removed]",
      "text/plain": [
       "plot without title"
      ]
     },
     "metadata": {
      "image/png": {
       "height": 420,
       "width": 420
      }
     },
     "output_type": "display_data"
    },
    {
     "data": {
      "image/png": "[encoded data removed]",
      "text/plain": [
       "plot without title"
      ]
     },
     "metadata": {
      "image/png": {
       "height": 420,
       "width": 420
      }
     },
     "output_type": "display_data"
    }
   ],
   "source": [
    "library(ggplot2)\n",
    "\n",
    "p <- ggplot(data=results[results$Unit==\"PSU\",], aes(x=Variable, y=Units, fill=Package)) +\n",
    "   geom_bar(stat=\"identity\", position=position_dodge(),)\n",
    "p + labs(title=\"PSUs by variable and package\", \n",
    "         x=\"Variable\", y = \"PSUs\") \n",
    "p <- ggplot(data=results[results$Unit==\"SSU\",], aes(x=Variable, y=Units, fill=Package)) +\n",
    "   geom_bar(stat=\"identity\", position=position_dodge(),)\n",
    "p + labs(title=\"SSUs by variable and package\", \n",
    "         x=\"Variable\", y = \"SSUs\") \n"
   ]
  },
  {
   "cell_type": "code",
   "execution_count": null,
   "id": "4f79086d-40b2-45dc-90de-7b73bf5d95d1",
   "metadata": {},
   "outputs": [],
   "source": []
  }
 ],
 "metadata": {
  "kernelspec": {
   "display_name": "R",
   "language": "R",
   "name": "ir"
  },
  "language_info": {
   "codemirror_mode": "r",
   "file_extension": ".r",
   "mimetype": "text/x-r-source",
   "name": "R",
   "pygments_lexer": "r",
   "version": "4.1.1"
  }
 },
 "nbformat": 4,
 "nbformat_minor": 5
}
